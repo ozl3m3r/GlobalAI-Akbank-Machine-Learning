{
 "cells": [
  {
   "cell_type": "markdown",
   "id": "02513378",
   "metadata": {
    "papermill": {
     "duration": 0.006478,
     "end_time": "2025-05-24T23:24:45.499936",
     "exception": false,
     "start_time": "2025-05-24T23:24:45.493458",
     "status": "completed"
    },
    "tags": []
   },
   "source": [
    "🧠 **Heart Disease Prediction - 2020 CDC Dataset**\n",
    "📌 **Veri Seti Hakkında**\n",
    "Bu proje, ABD Hastalık Kontrol ve Önleme Merkezi (CDC) tarafından yürütülen Behavioral Risk Factor Surveillance System (BRFSS) kapsamında 2020 yılında toplanan verilere dayanmaktadır. BRFSS, ABD'deki yetişkin bireylerin sağlıkla ilgili alışkanlıklarını ve durumlarını yıllık olarak sorgulayan dünyanın en büyük sürekli sağlık anket sistemidir.\n",
    "\n",
    "Bu çalışmada kullanılan veri kümesi, CDC'nin **2020** yılına ait versiyonudur. Daha güncel olan 2022 veya 2023 verilerinden farklı olarak, bu versiyon ön işlemden geçmiş ve eksik veriler temizlenmiş haldedir.\n",
    "\n",
    "Kalp hastalığı, özellikle Amerika Birleşik Devletleri'nde, tüm ırklarda önde gelen ölüm nedenlerinden biridir. CDC'ye göre Amerikalıların yaklaşık **%47’si** kalp hastalığına yol açabilecek üç ana risk faktöründen en az birine sahiptir:\n",
    "\n",
    "Yüksek tansiyon\n",
    "\n",
    "Yüksek kolesterol\n",
    "\n",
    "Sigara kullanımı\n",
    "\n",
    "Ek olarak, aşağıdaki değişkenler de kalp hastalığı ile yakından ilişkilidir:\n",
    "\n",
    "Diyabet\n",
    "\n",
    "Yüksek BMI (obezite)\n",
    "\n",
    "Yetersiz fiziksel aktivite\n",
    "\n",
    "Aşırı alkol tüketimi\n",
    "\n",
    "🔍 **Hedef (Goal)**\n",
    "\n",
    "Bu çalışmanın amacı, bireylerin sahip olduğu sağlık alışkanlıkları, sağlık durumu ve demografik bilgileri kullanarak kalp hastalığı riskini sınıflandırmaktır. Özellikle:\n",
    "\n",
    "Veri keşfi (EDA) ile önemli değişkenlerin analiz edilmesi\n",
    "\n",
    "Özellik mühendisliği teknikleri ile veri setinin zenginleştirilmesi\n",
    "\n",
    "Farklı makine öğrenmesi modelleri ile karşılaştırmalı analiz yapılması\n",
    "\n",
    "En yüksek başarıyı veren modelin belirlenmesi"
   ]
  },
  {
   "cell_type": "code",
   "execution_count": 1,
   "id": "064adb6f",
   "metadata": {
    "_cell_guid": "b1076dfc-b9ad-4769-8c92-a6c4dae69d19",
    "_uuid": "8f2839f25d086af736a60e9eeb907d3b93b6e0e5",
    "execution": {
     "iopub.execute_input": "2025-05-24T23:24:45.511767Z",
     "iopub.status.busy": "2025-05-24T23:24:45.511459Z",
     "iopub.status.idle": "2025-05-24T23:24:55.741011Z",
     "shell.execute_reply": "2025-05-24T23:24:55.740035Z"
    },
    "papermill": {
     "duration": 10.237516,
     "end_time": "2025-05-24T23:24:55.742734",
     "exception": false,
     "start_time": "2025-05-24T23:24:45.505218",
     "status": "completed"
    },
    "tags": []
   },
   "outputs": [],
   "source": [
    "# Gerekli kütüphaneler\n",
    "import pandas as pd\n",
    "import numpy as np\n",
    "import matplotlib.pyplot as plt\n",
    "import seaborn as sns\n",
    "\n",
    "from sklearn.model_selection import train_test_split, GridSearchCV\n",
    "from sklearn.preprocessing import StandardScaler, OneHotEncoder\n",
    "from sklearn.metrics import classification_report, confusion_matrix,accuracy_score, f1_score, recall_score\n",
    "\n",
    "from sklearn.ensemble import RandomForestClassifier\n",
    "from xgboost import XGBClassifier\n",
    "from lightgbm import LGBMClassifier\n",
    "\n",
    "import warnings\n",
    "warnings.filterwarnings('ignore')"
   ]
  },
  {
   "cell_type": "code",
   "execution_count": 2,
   "id": "5a98b3b3",
   "metadata": {
    "execution": {
     "iopub.execute_input": "2025-05-24T23:24:55.754759Z",
     "iopub.status.busy": "2025-05-24T23:24:55.754178Z",
     "iopub.status.idle": "2025-05-24T23:24:56.991847Z",
     "shell.execute_reply": "2025-05-24T23:24:56.991113Z"
    },
    "papermill": {
     "duration": 1.245394,
     "end_time": "2025-05-24T23:24:56.993478",
     "exception": false,
     "start_time": "2025-05-24T23:24:55.748084",
     "status": "completed"
    },
    "tags": []
   },
   "outputs": [],
   "source": [
    "# Veri Yükleme\n",
    "df = pd.read_csv('/kaggle/input/personal-key-indicators-of-heart-disease/2020/heart_2020_cleaned.csv')"
   ]
  },
  {
   "cell_type": "code",
   "execution_count": 3,
   "id": "a736b1d8",
   "metadata": {
    "execution": {
     "iopub.execute_input": "2025-05-24T23:24:57.005176Z",
     "iopub.status.busy": "2025-05-24T23:24:57.004848Z",
     "iopub.status.idle": "2025-05-24T23:24:57.036713Z",
     "shell.execute_reply": "2025-05-24T23:24:57.036006Z"
    },
    "papermill": {
     "duration": 0.039459,
     "end_time": "2025-05-24T23:24:57.038198",
     "exception": false,
     "start_time": "2025-05-24T23:24:56.998739",
     "status": "completed"
    },
    "tags": []
   },
   "outputs": [],
   "source": [
    "# Kategorik Olan Hedef Değişkeni Sayısal Değişkene Dönüştürme\n",
    "df['HeartDisease'] = df['HeartDisease'].map({'Yes': 1, 'No': 0})"
   ]
  },
  {
   "cell_type": "code",
   "execution_count": 4,
   "id": "20fe8f38",
   "metadata": {
    "execution": {
     "iopub.execute_input": "2025-05-24T23:24:57.049895Z",
     "iopub.status.busy": "2025-05-24T23:24:57.049180Z",
     "iopub.status.idle": "2025-05-24T23:24:57.075745Z",
     "shell.execute_reply": "2025-05-24T23:24:57.074722Z"
    },
    "papermill": {
     "duration": 0.034238,
     "end_time": "2025-05-24T23:24:57.077509",
     "exception": false,
     "start_time": "2025-05-24T23:24:57.043271",
     "status": "completed"
    },
    "tags": []
   },
   "outputs": [
    {
     "data": {
      "text/html": [
       "<div>\n",
       "<style scoped>\n",
       "    .dataframe tbody tr th:only-of-type {\n",
       "        vertical-align: middle;\n",
       "    }\n",
       "\n",
       "    .dataframe tbody tr th {\n",
       "        vertical-align: top;\n",
       "    }\n",
       "\n",
       "    .dataframe thead th {\n",
       "        text-align: right;\n",
       "    }\n",
       "</style>\n",
       "<table border=\"1\" class=\"dataframe\">\n",
       "  <thead>\n",
       "    <tr style=\"text-align: right;\">\n",
       "      <th></th>\n",
       "      <th>HeartDisease</th>\n",
       "      <th>BMI</th>\n",
       "      <th>Smoking</th>\n",
       "      <th>AlcoholDrinking</th>\n",
       "      <th>Stroke</th>\n",
       "      <th>PhysicalHealth</th>\n",
       "      <th>MentalHealth</th>\n",
       "      <th>DiffWalking</th>\n",
       "      <th>Sex</th>\n",
       "      <th>AgeCategory</th>\n",
       "      <th>Race</th>\n",
       "      <th>Diabetic</th>\n",
       "      <th>PhysicalActivity</th>\n",
       "      <th>GenHealth</th>\n",
       "      <th>SleepTime</th>\n",
       "      <th>Asthma</th>\n",
       "      <th>KidneyDisease</th>\n",
       "      <th>SkinCancer</th>\n",
       "    </tr>\n",
       "  </thead>\n",
       "  <tbody>\n",
       "    <tr>\n",
       "      <th>0</th>\n",
       "      <td>0</td>\n",
       "      <td>16.60</td>\n",
       "      <td>Yes</td>\n",
       "      <td>No</td>\n",
       "      <td>No</td>\n",
       "      <td>3.0</td>\n",
       "      <td>30.0</td>\n",
       "      <td>No</td>\n",
       "      <td>Female</td>\n",
       "      <td>55-59</td>\n",
       "      <td>White</td>\n",
       "      <td>Yes</td>\n",
       "      <td>Yes</td>\n",
       "      <td>Very good</td>\n",
       "      <td>5.0</td>\n",
       "      <td>Yes</td>\n",
       "      <td>No</td>\n",
       "      <td>Yes</td>\n",
       "    </tr>\n",
       "    <tr>\n",
       "      <th>1</th>\n",
       "      <td>0</td>\n",
       "      <td>20.34</td>\n",
       "      <td>No</td>\n",
       "      <td>No</td>\n",
       "      <td>Yes</td>\n",
       "      <td>0.0</td>\n",
       "      <td>0.0</td>\n",
       "      <td>No</td>\n",
       "      <td>Female</td>\n",
       "      <td>80 or older</td>\n",
       "      <td>White</td>\n",
       "      <td>No</td>\n",
       "      <td>Yes</td>\n",
       "      <td>Very good</td>\n",
       "      <td>7.0</td>\n",
       "      <td>No</td>\n",
       "      <td>No</td>\n",
       "      <td>No</td>\n",
       "    </tr>\n",
       "    <tr>\n",
       "      <th>2</th>\n",
       "      <td>0</td>\n",
       "      <td>26.58</td>\n",
       "      <td>Yes</td>\n",
       "      <td>No</td>\n",
       "      <td>No</td>\n",
       "      <td>20.0</td>\n",
       "      <td>30.0</td>\n",
       "      <td>No</td>\n",
       "      <td>Male</td>\n",
       "      <td>65-69</td>\n",
       "      <td>White</td>\n",
       "      <td>Yes</td>\n",
       "      <td>Yes</td>\n",
       "      <td>Fair</td>\n",
       "      <td>8.0</td>\n",
       "      <td>Yes</td>\n",
       "      <td>No</td>\n",
       "      <td>No</td>\n",
       "    </tr>\n",
       "    <tr>\n",
       "      <th>3</th>\n",
       "      <td>0</td>\n",
       "      <td>24.21</td>\n",
       "      <td>No</td>\n",
       "      <td>No</td>\n",
       "      <td>No</td>\n",
       "      <td>0.0</td>\n",
       "      <td>0.0</td>\n",
       "      <td>No</td>\n",
       "      <td>Female</td>\n",
       "      <td>75-79</td>\n",
       "      <td>White</td>\n",
       "      <td>No</td>\n",
       "      <td>No</td>\n",
       "      <td>Good</td>\n",
       "      <td>6.0</td>\n",
       "      <td>No</td>\n",
       "      <td>No</td>\n",
       "      <td>Yes</td>\n",
       "    </tr>\n",
       "    <tr>\n",
       "      <th>4</th>\n",
       "      <td>0</td>\n",
       "      <td>23.71</td>\n",
       "      <td>No</td>\n",
       "      <td>No</td>\n",
       "      <td>No</td>\n",
       "      <td>28.0</td>\n",
       "      <td>0.0</td>\n",
       "      <td>Yes</td>\n",
       "      <td>Female</td>\n",
       "      <td>40-44</td>\n",
       "      <td>White</td>\n",
       "      <td>No</td>\n",
       "      <td>Yes</td>\n",
       "      <td>Very good</td>\n",
       "      <td>8.0</td>\n",
       "      <td>No</td>\n",
       "      <td>No</td>\n",
       "      <td>No</td>\n",
       "    </tr>\n",
       "  </tbody>\n",
       "</table>\n",
       "</div>"
      ],
      "text/plain": [
       "   HeartDisease    BMI Smoking AlcoholDrinking Stroke  PhysicalHealth  \\\n",
       "0             0  16.60     Yes              No     No             3.0   \n",
       "1             0  20.34      No              No    Yes             0.0   \n",
       "2             0  26.58     Yes              No     No            20.0   \n",
       "3             0  24.21      No              No     No             0.0   \n",
       "4             0  23.71      No              No     No            28.0   \n",
       "\n",
       "   MentalHealth DiffWalking     Sex  AgeCategory   Race Diabetic  \\\n",
       "0          30.0          No  Female        55-59  White      Yes   \n",
       "1           0.0          No  Female  80 or older  White       No   \n",
       "2          30.0          No    Male        65-69  White      Yes   \n",
       "3           0.0          No  Female        75-79  White       No   \n",
       "4           0.0         Yes  Female        40-44  White       No   \n",
       "\n",
       "  PhysicalActivity  GenHealth  SleepTime Asthma KidneyDisease SkinCancer  \n",
       "0              Yes  Very good        5.0    Yes            No        Yes  \n",
       "1              Yes  Very good        7.0     No            No         No  \n",
       "2              Yes       Fair        8.0    Yes            No         No  \n",
       "3               No       Good        6.0     No            No        Yes  \n",
       "4              Yes  Very good        8.0     No            No         No  "
      ]
     },
     "execution_count": 4,
     "metadata": {},
     "output_type": "execute_result"
    }
   ],
   "source": [
    "df.head()"
   ]
  },
  {
   "cell_type": "markdown",
   "id": "95697f6d",
   "metadata": {
    "papermill": {
     "duration": 0.005161,
     "end_time": "2025-05-24T23:24:57.088135",
     "exception": false,
     "start_time": "2025-05-24T23:24:57.082974",
     "status": "completed"
    },
    "tags": []
   },
   "source": [
    "df.head() fonksiyonu ile ilk **5** satırı ve **18** sütunun tamamını görüntülüyoruz."
   ]
  },
  {
   "cell_type": "code",
   "execution_count": 5,
   "id": "3e6cca87",
   "metadata": {
    "execution": {
     "iopub.execute_input": "2025-05-24T23:24:57.100145Z",
     "iopub.status.busy": "2025-05-24T23:24:57.099385Z",
     "iopub.status.idle": "2025-05-24T23:24:57.328535Z",
     "shell.execute_reply": "2025-05-24T23:24:57.327501Z"
    },
    "papermill": {
     "duration": 0.236963,
     "end_time": "2025-05-24T23:24:57.330241",
     "exception": false,
     "start_time": "2025-05-24T23:24:57.093278",
     "status": "completed"
    },
    "tags": []
   },
   "outputs": [
    {
     "name": "stdout",
     "output_type": "stream",
     "text": [
      "<class 'pandas.core.frame.DataFrame'>\n",
      "RangeIndex: 319795 entries, 0 to 319794\n",
      "Data columns (total 18 columns):\n",
      " #   Column            Non-Null Count   Dtype  \n",
      "---  ------            --------------   -----  \n",
      " 0   HeartDisease      319795 non-null  int64  \n",
      " 1   BMI               319795 non-null  float64\n",
      " 2   Smoking           319795 non-null  object \n",
      " 3   AlcoholDrinking   319795 non-null  object \n",
      " 4   Stroke            319795 non-null  object \n",
      " 5   PhysicalHealth    319795 non-null  float64\n",
      " 6   MentalHealth      319795 non-null  float64\n",
      " 7   DiffWalking       319795 non-null  object \n",
      " 8   Sex               319795 non-null  object \n",
      " 9   AgeCategory       319795 non-null  object \n",
      " 10  Race              319795 non-null  object \n",
      " 11  Diabetic          319795 non-null  object \n",
      " 12  PhysicalActivity  319795 non-null  object \n",
      " 13  GenHealth         319795 non-null  object \n",
      " 14  SleepTime         319795 non-null  float64\n",
      " 15  Asthma            319795 non-null  object \n",
      " 16  KidneyDisease     319795 non-null  object \n",
      " 17  SkinCancer        319795 non-null  object \n",
      "dtypes: float64(4), int64(1), object(13)\n",
      "memory usage: 43.9+ MB\n"
     ]
    }
   ],
   "source": [
    "df.info()"
   ]
  },
  {
   "cell_type": "markdown",
   "id": "fe9b176b",
   "metadata": {
    "papermill": {
     "duration": 0.005431,
     "end_time": "2025-05-24T23:24:57.341459",
     "exception": false,
     "start_time": "2025-05-24T23:24:57.336028",
     "status": "completed"
    },
    "tags": []
   },
   "source": [
    "📊 **Veri Seti Genel Görünüm**\n",
    "\n",
    "Veri setinde **17** adet orijinal sütun, hedef değişken olarak **HeartDisease** sütunu ve 319795 veri bulunmaktadır. Veride eksik değer bulunmamaktadır. \n",
    "\n",
    "**Bazı önemli sütunlar:**\n",
    "\n",
    "***BMI:*** Vücut kitle indeksi\n",
    "\n",
    "***Smoking:*** Sigara içme durumu\n",
    "\n",
    "***AlcoholDrinking:*** Alkol kullanma durumu\n",
    "\n",
    "***Stroke:*** Felç geçirme durumu\n",
    "\n",
    "***PhysicalHealth / MentalHealth:*** Kötü sağlık gün sayısı\n",
    "\n",
    "***Sex, AgeCategory, Race:*** Demografik bilgiler\n",
    "\n",
    "***Diabetic, PhysicalActivity, Asthma, KidneyDisease, SkinCancer:*** Sağlık geçmişi"
   ]
  },
  {
   "cell_type": "code",
   "execution_count": 6,
   "id": "22932b40",
   "metadata": {
    "execution": {
     "iopub.execute_input": "2025-05-24T23:24:57.354237Z",
     "iopub.status.busy": "2025-05-24T23:24:57.353500Z",
     "iopub.status.idle": "2025-05-24T23:24:57.440256Z",
     "shell.execute_reply": "2025-05-24T23:24:57.439403Z"
    },
    "papermill": {
     "duration": 0.094706,
     "end_time": "2025-05-24T23:24:57.441682",
     "exception": false,
     "start_time": "2025-05-24T23:24:57.346976",
     "status": "completed"
    },
    "tags": []
   },
   "outputs": [
    {
     "data": {
      "text/html": [
       "<div>\n",
       "<style scoped>\n",
       "    .dataframe tbody tr th:only-of-type {\n",
       "        vertical-align: middle;\n",
       "    }\n",
       "\n",
       "    .dataframe tbody tr th {\n",
       "        vertical-align: top;\n",
       "    }\n",
       "\n",
       "    .dataframe thead th {\n",
       "        text-align: right;\n",
       "    }\n",
       "</style>\n",
       "<table border=\"1\" class=\"dataframe\">\n",
       "  <thead>\n",
       "    <tr style=\"text-align: right;\">\n",
       "      <th></th>\n",
       "      <th>HeartDisease</th>\n",
       "      <th>BMI</th>\n",
       "      <th>PhysicalHealth</th>\n",
       "      <th>MentalHealth</th>\n",
       "      <th>SleepTime</th>\n",
       "    </tr>\n",
       "  </thead>\n",
       "  <tbody>\n",
       "    <tr>\n",
       "      <th>count</th>\n",
       "      <td>319795.000000</td>\n",
       "      <td>319795.000000</td>\n",
       "      <td>319795.00000</td>\n",
       "      <td>319795.000000</td>\n",
       "      <td>319795.000000</td>\n",
       "    </tr>\n",
       "    <tr>\n",
       "      <th>mean</th>\n",
       "      <td>0.085595</td>\n",
       "      <td>28.325399</td>\n",
       "      <td>3.37171</td>\n",
       "      <td>3.898366</td>\n",
       "      <td>7.097075</td>\n",
       "    </tr>\n",
       "    <tr>\n",
       "      <th>std</th>\n",
       "      <td>0.279766</td>\n",
       "      <td>6.356100</td>\n",
       "      <td>7.95085</td>\n",
       "      <td>7.955235</td>\n",
       "      <td>1.436007</td>\n",
       "    </tr>\n",
       "    <tr>\n",
       "      <th>min</th>\n",
       "      <td>0.000000</td>\n",
       "      <td>12.020000</td>\n",
       "      <td>0.00000</td>\n",
       "      <td>0.000000</td>\n",
       "      <td>1.000000</td>\n",
       "    </tr>\n",
       "    <tr>\n",
       "      <th>25%</th>\n",
       "      <td>0.000000</td>\n",
       "      <td>24.030000</td>\n",
       "      <td>0.00000</td>\n",
       "      <td>0.000000</td>\n",
       "      <td>6.000000</td>\n",
       "    </tr>\n",
       "    <tr>\n",
       "      <th>50%</th>\n",
       "      <td>0.000000</td>\n",
       "      <td>27.340000</td>\n",
       "      <td>0.00000</td>\n",
       "      <td>0.000000</td>\n",
       "      <td>7.000000</td>\n",
       "    </tr>\n",
       "    <tr>\n",
       "      <th>75%</th>\n",
       "      <td>0.000000</td>\n",
       "      <td>31.420000</td>\n",
       "      <td>2.00000</td>\n",
       "      <td>3.000000</td>\n",
       "      <td>8.000000</td>\n",
       "    </tr>\n",
       "    <tr>\n",
       "      <th>max</th>\n",
       "      <td>1.000000</td>\n",
       "      <td>94.850000</td>\n",
       "      <td>30.00000</td>\n",
       "      <td>30.000000</td>\n",
       "      <td>24.000000</td>\n",
       "    </tr>\n",
       "  </tbody>\n",
       "</table>\n",
       "</div>"
      ],
      "text/plain": [
       "        HeartDisease            BMI  PhysicalHealth   MentalHealth  \\\n",
       "count  319795.000000  319795.000000    319795.00000  319795.000000   \n",
       "mean        0.085595      28.325399         3.37171       3.898366   \n",
       "std         0.279766       6.356100         7.95085       7.955235   \n",
       "min         0.000000      12.020000         0.00000       0.000000   \n",
       "25%         0.000000      24.030000         0.00000       0.000000   \n",
       "50%         0.000000      27.340000         0.00000       0.000000   \n",
       "75%         0.000000      31.420000         2.00000       3.000000   \n",
       "max         1.000000      94.850000        30.00000      30.000000   \n",
       "\n",
       "           SleepTime  \n",
       "count  319795.000000  \n",
       "mean        7.097075  \n",
       "std         1.436007  \n",
       "min         1.000000  \n",
       "25%         6.000000  \n",
       "50%         7.000000  \n",
       "75%         8.000000  \n",
       "max        24.000000  "
      ]
     },
     "execution_count": 6,
     "metadata": {},
     "output_type": "execute_result"
    }
   ],
   "source": [
    "df.describe()"
   ]
  },
  {
   "cell_type": "markdown",
   "id": "5166414b",
   "metadata": {
    "papermill": {
     "duration": 0.005166,
     "end_time": "2025-05-24T23:24:57.453022",
     "exception": false,
     "start_time": "2025-05-24T23:24:57.447856",
     "status": "completed"
    },
    "tags": []
   },
   "source": [
    "## 1. **HeartDisease (Kalp Hastalığı)**\n",
    "- **Ortalama (Mean):** `0.085`  \n",
    "  - Popülasyonun **%8.5'inde kalp hastalığı** tanısı mevcut.\n",
    "- **Standart Sapma (Std):** `0.279`  \n",
    "  - Değişken **ikili (binary)** olduğundan düşük sapma beklenen bir durum.\n",
    "- **Çeyreklikler (25%, 50%, 75%):** `0`  \n",
    "  - Veri setinin **büyük çoğunluğu kalp hastalığı taşımıyor**. Bu, dengesiz (imbalanced) bir dağılıma işaret ediyor.\n",
    "\n",
    "---\n",
    "\n",
    "## 2. **BMI (Vücut Kitle İndeksi)**\n",
    "- **Ortalama:** `28.32`  \n",
    "  - Ortalama BMI **\"fazla kilolu\"** aralığında (25-30). Genel popülasyon kilo problemi eğilimli.\n",
    "- **Standart Sapma:** `6.35`  \n",
    "  - BMI değerleri orta düzeyde dağılım gösteriyor.\n",
    "- **Min-Max Değerleri:** `12.02 - 94.85`  \n",
    "  - **Aykırı değerler mevcut** (özellikle 94.85 gibi gerçekçi olmayan BMI). Veri temizliği veya normalizasyon önerilir.\n",
    "\n",
    "---\n",
    "\n",
    "## 3. **PhysicalHealth & MentalHealth (Fiziksel/Zihinsel Sağlık)**\n",
    "- **Ortalama (Physical):** `3.37`, **Mental:** `3.89`  \n",
    "  - Son 30 günde ortalama **3-4 gün** fiziksel/zihinsel sağlık sorunu yaşanmış.\n",
    "- **Standart Sapma:** `~7.95`  \n",
    "  - Büyük sapma, bazı bireylerde **aşırı yüksek değerler** (max=30) olduğunu gösteriyor.\n",
    "- **Çeyreklikler:**  \n",
    "  - **%75'lik dilimde PhysicalHealth ≤2**, MentalHealth ≤3. Çoğunluk hafif sorunlar bildirmiş.\n",
    "\n",
    "---\n",
    "\n",
    "## 4. **SleepTime (Uyku Süresi)**\n",
    "- **Ortalama:** `7.09 saat`  \n",
    "  - Genel uyku süresi **sağlıklı aralıkta** (7-9 saat).\n",
    "- **Standart Sapma:** `1.43`  \n",
    "  - Dağılım nispeten dar, çoğunluk ortalamaya yakın.\n",
    "- **Min-Max Değerleri:** `1 - 24 saat`  \n",
    "  - **1 saat uyku** gerçekçi değil; **24 saat** ise imkânsız. Aykırı değerlerin incelenmesi gerekiyor.\n",
    "\n",
    "---\n",
    "\n",
    "## **Genel Çıkarımlar**\n",
    "1. **Dengesiz Sınıf Dağılımı:** Kalp hastalığı olanlar azınlıkta. Modellemede **oversampling/undersampling** teknikleri kullanılmalı.\n",
    "2. **Aykırı Değerler:** BMI ve SleepTime'da şüpheli değerler mevcut. Veri kalitesi için **temizleme** şart.\n",
    "3. **Korelasyon İhtimali:** Yüksek BMI ile kalp hastalığı arasında ilişki olabilir. İleri analizlerle test edilmeli.\n",
    "4. **Sağlık Metrikleri:** Fiziksel/zihinsel sağlık günleri, kronik sorunları olan bireyleri işaret ediyor olabilir.\n"
   ]
  },
  {
   "cell_type": "code",
   "execution_count": 7,
   "id": "fd8039f3",
   "metadata": {
    "execution": {
     "iopub.execute_input": "2025-05-24T23:24:57.465034Z",
     "iopub.status.busy": "2025-05-24T23:24:57.464717Z",
     "iopub.status.idle": "2025-05-24T23:24:57.675501Z",
     "shell.execute_reply": "2025-05-24T23:24:57.674379Z"
    },
    "papermill": {
     "duration": 0.218637,
     "end_time": "2025-05-24T23:24:57.677100",
     "exception": false,
     "start_time": "2025-05-24T23:24:57.458463",
     "status": "completed"
    },
    "tags": []
   },
   "outputs": [
    {
     "name": "stdout",
     "output_type": "stream",
     "text": [
      "HeartDisease        0\n",
      "BMI                 0\n",
      "Smoking             0\n",
      "AlcoholDrinking     0\n",
      "Stroke              0\n",
      "PhysicalHealth      0\n",
      "MentalHealth        0\n",
      "DiffWalking         0\n",
      "Sex                 0\n",
      "AgeCategory         0\n",
      "Race                0\n",
      "Diabetic            0\n",
      "PhysicalActivity    0\n",
      "GenHealth           0\n",
      "SleepTime           0\n",
      "Asthma              0\n",
      "KidneyDisease       0\n",
      "SkinCancer          0\n",
      "dtype: int64\n"
     ]
    }
   ],
   "source": [
    "# Eksik Verilerin İncelenmesi\n",
    "print(df.isnull().sum())"
   ]
  },
  {
   "cell_type": "markdown",
   "id": "49b7441a",
   "metadata": {
    "papermill": {
     "duration": 0.005447,
     "end_time": "2025-05-24T23:24:57.688732",
     "exception": false,
     "start_time": "2025-05-24T23:24:57.683285",
     "status": "completed"
    },
    "tags": []
   },
   "source": [
    "Veri setinde **18** sütunun hepsinde eksik veri sayısının **sıfır(0)** olduğu görülmektedir."
   ]
  },
  {
   "cell_type": "code",
   "execution_count": 8,
   "id": "5d27b0e6",
   "metadata": {
    "execution": {
     "iopub.execute_input": "2025-05-24T23:24:57.702054Z",
     "iopub.status.busy": "2025-05-24T23:24:57.701465Z",
     "iopub.status.idle": "2025-05-24T23:24:57.979721Z",
     "shell.execute_reply": "2025-05-24T23:24:57.978834Z"
    },
    "papermill": {
     "duration": 0.286652,
     "end_time": "2025-05-24T23:24:57.981196",
     "exception": false,
     "start_time": "2025-05-24T23:24:57.694544",
     "status": "completed"
    },
    "tags": []
   },
   "outputs": [
    {
     "data": {
      "image/png": "[encoded data removed]",
      "text/plain": [
       "<Figure size 600x400 with 1 Axes>"
      ]
     },
     "metadata": {},
     "output_type": "display_data"
    }
   ],
   "source": [
    "# GRAFİK 1: Sınıf Dağılımı\n",
    "plt.figure(figsize=(6,4))\n",
    "sns.countplot(data=df, x='HeartDisease', palette='Set2')\n",
    "plt.title(\"HeartDisease Sınıf Dağılımı\")\n",
    "plt.xticks([0, 1], ['Sağlıklı (0)', 'Hasta (1)'])\n",
    "plt.ylabel(\"Kişi Sayısı\")\n",
    "plt.show()"
   ]
  },
  {
   "cell_type": "markdown",
   "id": "42207dcb",
   "metadata": {
    "papermill": {
     "duration": 0.005903,
     "end_time": "2025-05-24T23:24:57.993457",
     "exception": false,
     "start_time": "2025-05-24T23:24:57.987554",
     "status": "completed"
    },
    "tags": []
   },
   "source": [
    "📈 **Keşifsel Veri Analizi (EDA):** \n",
    "\n",
    "**Sınıf Dağılımı**\n",
    "Veri seti dengesizdir. **\"HeartDisease\"** sütununda hasta olan bireyler **(1)** sayıca azınlıktadır. Bu nedenle modelleme aşamasında **class_weight, scale_pos_weight** gibi dengeleme stratejileri uygulanmıştır."
   ]
  },
  {
   "cell_type": "code",
   "execution_count": 9,
   "id": "832a772f",
   "metadata": {
    "execution": {
     "iopub.execute_input": "2025-05-24T23:24:58.006856Z",
     "iopub.status.busy": "2025-05-24T23:24:58.006525Z",
     "iopub.status.idle": "2025-05-24T23:24:58.332416Z",
     "shell.execute_reply": "2025-05-24T23:24:58.331478Z"
    },
    "papermill": {
     "duration": 0.334533,
     "end_time": "2025-05-24T23:24:58.334009",
     "exception": false,
     "start_time": "2025-05-24T23:24:57.999476",
     "status": "completed"
    },
    "tags": []
   },
   "outputs": [
    {
     "data": {
      "image/png": "[encoded data removed]",
      "text/plain": [
       "<Figure size 1200x1000 with 2 Axes>"
      ]
     },
     "metadata": {},
     "output_type": "display_data"
    }
   ],
   "source": [
    "# Korelasyon Matrisi (Sadece sayısal değişkenler için)\n",
    "numeric_df = df.select_dtypes(include=[np.number])\n",
    "plt.figure(figsize=(12,10))\n",
    "sns.heatmap(numeric_df.corr(), annot=True, cmap='coolwarm')\n",
    "plt.title(\"Korelasyon Matrisi\")\n",
    "plt.show()"
   ]
  },
  {
   "cell_type": "markdown",
   "id": "bdce0e4a",
   "metadata": {
    "papermill": {
     "duration": 0.007165,
     "end_time": "2025-05-24T23:24:58.348983",
     "exception": false,
     "start_time": "2025-05-24T23:24:58.341818",
     "status": "completed"
    },
    "tags": []
   },
   "source": [
    "📊 **Korelasyon Matrisi:** \n",
    "Bu grafik, kalp hastalığı (HeartDisease) ve bazı sağlık göstergeleri (BMI, PhysicalHealth, MentalHealth, SleepTime, UnhealthyScore) arasındaki korelasyon katsayılarını gösterir.\n",
    "\n",
    "**Dikkat Çeken Noktalar:**\n",
    "**HeartDisease ile Korelasyonlar:**\n",
    "\n",
    "*PhysicalHealth:* **0.17** → Pozitif ama zayıf bir ilişki.\n",
    "\n",
    "*MentalHealth:* **0.029** → Çok zayıf pozitif ilişki.\n",
    "\n",
    "*SleepTime:* **0.0083** → Korelasyon neredeyse yok.\n",
    "\n",
    "*UnhealthyScore:* **0.12** → Hafif pozitif ilişki.\n",
    "\n",
    "*BMI:* **0.052** → Zayıf pozitif ilişki.\n",
    "\n",
    "**UnhealthyScore ile Diğer Değişkenler:**\n",
    "\n",
    "*PhysicalHealth & MentalHealth:* 0.8 → Çok güçlü pozitif korelasyon. UnhealthyScore bu iki değişkeni birleştirerek hesaplandığı için beklenen bir durum.\n",
    "\n",
    "**Sonuç:**\n",
    "\n",
    "Kalp hastalığıyla ilişkili değişkenler arasında en yüksek korelasyon PhysicalHealth **(0.17)** ile olup, bu da zayıf düzeydedir.\n",
    "\n",
    "Korelasyonlar genel olarak düşüktür; bu da kalp hastalığını tahmin etmek için daha karmaşık modellerin gerektiğini ve belki de dolaylı etkileşimlerin incelenmesini önerir.\n",
    "\n"
   ]
  },
  {
   "cell_type": "code",
   "execution_count": 10,
   "id": "c133d574",
   "metadata": {
    "execution": {
     "iopub.execute_input": "2025-05-24T23:24:58.366581Z",
     "iopub.status.busy": "2025-05-24T23:24:58.365809Z",
     "iopub.status.idle": "2025-05-24T23:24:58.679856Z",
     "shell.execute_reply": "2025-05-24T23:24:58.679130Z"
    },
    "papermill": {
     "duration": 0.324841,
     "end_time": "2025-05-24T23:24:58.681597",
     "exception": false,
     "start_time": "2025-05-24T23:24:58.356756",
     "status": "completed"
    },
    "tags": []
   },
   "outputs": [],
   "source": [
    "# Özellik Mühendisliği\n",
    "\n",
    "# AgeGroup\n",
    "def age_group(age):\n",
    "    if age in ['18-24', '25-29', '30-34']: return 'Young'\n",
    "    elif age in ['35-39', '40-44', '45-49']: return 'MidAge'\n",
    "    elif age in ['50-54', '55-59', '60-64']: return 'Senior'\n",
    "    else: return 'Elder'\n",
    "df['AgeGroup'] = df['AgeCategory'].apply(age_group)\n",
    "\n",
    "# RiskyLifestyle\n",
    "df['RiskyLifestyle'] = np.where(\n",
    "    (df['AlcoholDrinking'] == 'Yes') & (df['PhysicalActivity'] == 'No'),\n",
    "    'Yes', 'No'\n",
    ")\n",
    "\n",
    "# BMI_Category\n",
    "def bmi_cat(bmi):\n",
    "    if bmi < 18.5: return 'Underweight'\n",
    "    elif 18.5 <= bmi < 25: return 'Normal'\n",
    "    elif 25 <= bmi < 30: return 'Overweight'\n",
    "    else: return 'Obese'\n",
    "df['BMI_Category'] = df['BMI'].apply(bmi_cat)\n",
    "\n",
    "# UnhealthyScore (mental + physical health days)\n",
    "df['UnhealthyScore'] = (df['PhysicalHealth'] + df['MentalHealth']) / 2 if 'PhysicalHealth' in df.columns and 'MentalHealth' in df.columns else 0\n",
    "\n"
   ]
  },
  {
   "cell_type": "markdown",
   "id": "e5f6bc37",
   "metadata": {
    "papermill": {
     "duration": 0.006722,
     "end_time": "2025-05-24T23:24:58.695420",
     "exception": false,
     "start_time": "2025-05-24T23:24:58.688698",
     "status": "completed"
    },
    "tags": []
   },
   "source": [
    "🛠 **Özellik Mühendisliği:**\n",
    "\n",
    "Veri setini zenginleştirmek ve model performansını artırmak amacıyla şu yeni değişkenler oluşturulmuştur:\n",
    "\n",
    "**AgeGroup:** Yaş aralıkları genç, orta, yaşlı ve çok yaşlı olarak gruplanmıştır.\n",
    "\n",
    "**RiskyLifestyle:** Alkol kullanıp fiziksel aktivitesi olmayan bireyler “riskli yaşam tarzı”na sahip olarak etiketlenmiştir.\n",
    "\n",
    "**BMI_Category:** BMI değeri 4 kategoride sınıflandırılmıştır (Underweight, Normal, Overweight, Obese).\n",
    "\n",
    "**UnhealthyScore:** Fiziksel ve mental kötü günlerin ortalaması alınarak oluşturulmuştur.\n",
    "\n"
   ]
  },
  {
   "cell_type": "code",
   "execution_count": 11,
   "id": "276a1c57",
   "metadata": {
    "execution": {
     "iopub.execute_input": "2025-05-24T23:24:58.711435Z",
     "iopub.status.busy": "2025-05-24T23:24:58.711161Z",
     "iopub.status.idle": "2025-05-24T23:24:59.363079Z",
     "shell.execute_reply": "2025-05-24T23:24:59.362024Z"
    },
    "papermill": {
     "duration": 0.662114,
     "end_time": "2025-05-24T23:24:59.365341",
     "exception": false,
     "start_time": "2025-05-24T23:24:58.703227",
     "status": "completed"
    },
    "tags": []
   },
   "outputs": [],
   "source": [
    "# One-Hot Encoding\n",
    "categorical_cols = df.select_dtypes(include='object').columns.tolist()\n",
    "if 'HeartDisease' in categorical_cols:\n",
    "    categorical_cols.remove('HeartDisease')\n",
    "df_encoded = pd.get_dummies(df, columns=categorical_cols, drop_first=True)"
   ]
  },
  {
   "cell_type": "code",
   "execution_count": 12,
   "id": "826271de",
   "metadata": {
    "execution": {
     "iopub.execute_input": "2025-05-24T23:24:59.382866Z",
     "iopub.status.busy": "2025-05-24T23:24:59.381913Z",
     "iopub.status.idle": "2025-05-24T23:24:59.405421Z",
     "shell.execute_reply": "2025-05-24T23:24:59.404480Z"
    },
    "papermill": {
     "duration": 0.034066,
     "end_time": "2025-05-24T23:24:59.407058",
     "exception": false,
     "start_time": "2025-05-24T23:24:59.372992",
     "status": "completed"
    },
    "tags": []
   },
   "outputs": [],
   "source": [
    "# Özellik ve Hedef Ayır\n",
    "X = df_encoded.drop('HeartDisease', axis=1)\n",
    "y = df_encoded['HeartDisease']"
   ]
  },
  {
   "cell_type": "code",
   "execution_count": 13,
   "id": "82e55726",
   "metadata": {
    "execution": {
     "iopub.execute_input": "2025-05-24T23:24:59.423447Z",
     "iopub.status.busy": "2025-05-24T23:24:59.423098Z",
     "iopub.status.idle": "2025-05-24T23:25:00.225010Z",
     "shell.execute_reply": "2025-05-24T23:25:00.224208Z"
    },
    "papermill": {
     "duration": 0.811949,
     "end_time": "2025-05-24T23:25:00.226665",
     "exception": false,
     "start_time": "2025-05-24T23:24:59.414716",
     "status": "completed"
    },
    "tags": []
   },
   "outputs": [],
   "source": [
    "# Eğitim ve Test Verisi\n",
    "X_train, X_test, y_train, y_test = train_test_split(X, y, stratify=y, test_size=0.2, random_state=42)\n",
    "\n",
    "# Ölçekleme\n",
    "scaler = StandardScaler()\n",
    "X_train_scaled = scaler.fit_transform(X_train)\n",
    "X_test_scaled = scaler.transform(X_test)\n"
   ]
  },
  {
   "cell_type": "markdown",
   "id": "0822d81d",
   "metadata": {
    "papermill": {
     "duration": 0.006778,
     "end_time": "2025-05-24T23:25:00.241027",
     "exception": false,
     "start_time": "2025-05-24T23:25:00.234249",
     "status": "completed"
    },
    "tags": []
   },
   "source": [
    "🔄 Ön İşleme ve Modelleme\n",
    "🧪 Modelleme Aşamaları\n",
    "Veriler eğitim ve test olarak ayrılmıştır (%80 - %20)\n",
    "\n",
    "Sayısal değişkenler StandardScaler ile ölçeklenmiştir.\n",
    "\n",
    "Kategorik değişkenler One-Hot Encoding ile dönüştürülmüştür.\n",
    "\n",
    "3 farklı makine öğrenmesi algoritması denenmiştir:\n",
    "\n",
    "Random Forest\n",
    "\n",
    "XGBoost\n",
    "\n",
    "LightGBM\n",
    "\n",
    "Her model için hiperparametre optimizasyonu GridSearchCV ile yapılmıştır."
   ]
  },
  {
   "cell_type": "code",
   "execution_count": 14,
   "id": "57dbde88",
   "metadata": {
    "execution": {
     "iopub.execute_input": "2025-05-24T23:25:00.256764Z",
     "iopub.status.busy": "2025-05-24T23:25:00.255929Z",
     "iopub.status.idle": "2025-05-24T23:31:12.887205Z",
     "shell.execute_reply": "2025-05-24T23:31:12.886284Z"
    },
    "papermill": {
     "duration": 372.641128,
     "end_time": "2025-05-24T23:31:12.889138",
     "exception": false,
     "start_time": "2025-05-24T23:25:00.248010",
     "status": "completed"
    },
    "tags": []
   },
   "outputs": [],
   "source": [
    "# Random Forest Modeli\n",
    "param_rf = {\n",
    "    'n_estimators': [100, 200],\n",
    "    'max_depth': [10, 20],\n",
    "    'min_samples_split': [2, 5],\n",
    "    'class_weight': ['balanced']\n",
    "}\n",
    "grid_rf = GridSearchCV(RandomForestClassifier(random_state=42), param_rf, scoring='f1', cv=3, n_jobs=-1)\n",
    "grid_rf.fit(X_train_scaled, y_train)\n",
    "rf_best = grid_rf.best_estimator_\n",
    "y_pred_rf = rf_best.predict(X_test_scaled)"
   ]
  },
  {
   "cell_type": "code",
   "execution_count": 15,
   "id": "49f7e13f",
   "metadata": {
    "execution": {
     "iopub.execute_input": "2025-05-24T23:31:12.906989Z",
     "iopub.status.busy": "2025-05-24T23:31:12.905843Z",
     "iopub.status.idle": "2025-05-24T23:31:57.497516Z",
     "shell.execute_reply": "2025-05-24T23:31:57.496848Z"
    },
    "papermill": {
     "duration": 44.601678,
     "end_time": "2025-05-24T23:31:57.499293",
     "exception": false,
     "start_time": "2025-05-24T23:31:12.897615",
     "status": "completed"
    },
    "tags": []
   },
   "outputs": [],
   "source": [
    "# XGBoost\n",
    "param_xgb = {\n",
    "    'n_estimators': [100, 200],\n",
    "    'max_depth': [3, 6],\n",
    "    'learning_rate': [0.01, 0.1],\n",
    "    'scale_pos_weight': [10]\n",
    "}\n",
    "grid_xgb = GridSearchCV(XGBClassifier(use_label_encoder=False, eval_metric='logloss', random_state=42),\n",
    "                        param_xgb, scoring='f1', cv=3, n_jobs=-1)\n",
    "grid_xgb.fit(X_train_scaled, y_train)\n",
    "xgb_best = grid_xgb.best_estimator_\n",
    "y_pred_xgb = xgb_best.predict(X_test_scaled)"
   ]
  },
  {
   "cell_type": "code",
   "execution_count": 16,
   "id": "3b8aa886",
   "metadata": {
    "execution": {
     "iopub.execute_input": "2025-05-24T23:31:57.514979Z",
     "iopub.status.busy": "2025-05-24T23:31:57.514666Z",
     "iopub.status.idle": "2025-05-24T23:32:57.496718Z",
     "shell.execute_reply": "2025-05-24T23:32:57.495767Z"
    },
    "papermill": {
     "duration": 59.99181,
     "end_time": "2025-05-24T23:32:57.498481",
     "exception": false,
     "start_time": "2025-05-24T23:31:57.506671",
     "status": "completed"
    },
    "tags": []
   },
   "outputs": [
    {
     "name": "stdout",
     "output_type": "stream",
     "text": [
      "[LightGBM] [Info] Number of positive: 21898, number of negative: 233938\n",
      "[LightGBM] [Info] Auto-choosing row-wise multi-threading, the overhead of testing was 0.058313 seconds.\n",
      "You can set `force_row_wise=true` to remove the overhead.\n",
      "And if memory is not enough, you can set `force_col_wise=true`.\n",
      "[LightGBM] [Info] Total Bins 524\n",
      "[LightGBM] [Info] Number of data points in the train set: 255836, number of used features: 45\n",
      "[LightGBM] [Info] [binary:BoostFromScore]: pavg=0.500000 -> initscore=-0.000000\n",
      "[LightGBM] [Info] Start training from score -0.000000\n"
     ]
    }
   ],
   "source": [
    "# LightGBM\n",
    "param_lgb = {\n",
    "    'n_estimators': [100, 200],\n",
    "    'max_depth': [10, 20],\n",
    "    'learning_rate': [0.01, 0.1],\n",
    "    'class_weight': ['balanced']\n",
    "}\n",
    "grid_lgb = GridSearchCV(LGBMClassifier(random_state=42), param_lgb, scoring='f1', cv=3, n_jobs=2)\n",
    "grid_lgb.fit(X_train_scaled, y_train)\n",
    "lgb_best = grid_lgb.best_estimator_\n",
    "y_pred_lgb = lgb_best.predict(X_test_scaled)"
   ]
  },
  {
   "cell_type": "markdown",
   "id": "582260c1",
   "metadata": {
    "papermill": {
     "duration": 0.006779,
     "end_time": "2025-05-24T23:32:57.512628",
     "exception": false,
     "start_time": "2025-05-24T23:32:57.505849",
     "status": "completed"
    },
    "tags": []
   },
   "source": [
    "✅ Model Performansı\n",
    "Her model için Accuracy, Recall ve F1-score değerleri hesaplanmıştır. Özellikle Recall skoru hasta bireyleri doğru tahmin etme başarısını gösterdiği için öncelikli olarak değerlendirilmiştir."
   ]
  },
  {
   "cell_type": "code",
   "execution_count": 17,
   "id": "ba5c482b",
   "metadata": {
    "execution": {
     "iopub.execute_input": "2025-05-24T23:32:57.528741Z",
     "iopub.status.busy": "2025-05-24T23:32:57.528445Z",
     "iopub.status.idle": "2025-05-24T23:32:57.792625Z",
     "shell.execute_reply": "2025-05-24T23:32:57.791523Z"
    },
    "papermill": {
     "duration": 0.274624,
     "end_time": "2025-05-24T23:32:57.794353",
     "exception": false,
     "start_time": "2025-05-24T23:32:57.519729",
     "status": "completed"
    },
    "tags": []
   },
   "outputs": [
    {
     "name": "stdout",
     "output_type": "stream",
     "text": [
      "Random Forest:\n",
      "               precision    recall  f1-score   support\n",
      "\n",
      "           0       0.95      0.85      0.90     58484\n",
      "           1       0.26      0.56      0.35      5475\n",
      "\n",
      "    accuracy                           0.83     63959\n",
      "   macro avg       0.61      0.70      0.63     63959\n",
      "weighted avg       0.89      0.83      0.85     63959\n",
      "\n",
      "XGBoost:\n",
      "               precision    recall  f1-score   support\n",
      "\n",
      "           0       0.97      0.75      0.85     58484\n",
      "           1       0.23      0.76      0.35      5475\n",
      "\n",
      "    accuracy                           0.75     63959\n",
      "   macro avg       0.60      0.76      0.60     63959\n",
      "weighted avg       0.91      0.75      0.81     63959\n",
      "\n",
      "LightGBM:\n",
      "               precision    recall  f1-score   support\n",
      "\n",
      "           0       0.97      0.73      0.84     58484\n",
      "           1       0.22      0.79      0.34      5475\n",
      "\n",
      "    accuracy                           0.74     63959\n",
      "   macro avg       0.60      0.76      0.59     63959\n",
      "weighted avg       0.91      0.74      0.80     63959\n",
      "\n"
     ]
    }
   ],
   "source": [
    "# Performans Karşılaştırması\n",
    "print(\"Random Forest:\\n\", classification_report(y_test, y_pred_rf))\n",
    "print(\"XGBoost:\\n\", classification_report(y_test, y_pred_xgb))\n",
    "print(\"LightGBM:\\n\", classification_report(y_test, y_pred_lgb))"
   ]
  },
  {
   "cell_type": "code",
   "execution_count": 18,
   "id": "e8b0370b",
   "metadata": {
    "execution": {
     "iopub.execute_input": "2025-05-24T23:32:57.810593Z",
     "iopub.status.busy": "2025-05-24T23:32:57.810281Z",
     "iopub.status.idle": "2025-05-24T23:32:57.952348Z",
     "shell.execute_reply": "2025-05-24T23:32:57.951320Z"
    },
    "papermill": {
     "duration": 0.152154,
     "end_time": "2025-05-24T23:32:57.953868",
     "exception": false,
     "start_time": "2025-05-24T23:32:57.801714",
     "status": "completed"
    },
    "tags": []
   },
   "outputs": [
    {
     "name": "stdout",
     "output_type": "stream",
     "text": [
      "Recall Scores: [0.5565296803652968, 0.7647488584474886, 0.7936073059360731]\n",
      "F1 Scores: [0.3530093263048138, 0.34788749948070297, 0.3428143122016647]\n",
      "Accuracy Scores: [0.8253725042605419, 0.7545771509873512, 0.7395362654200347]\n"
     ]
    }
   ],
   "source": [
    "# Performans skorlarını hesapla\n",
    "models = ['Random Forest', 'XGBoost', 'LightGBM']\n",
    "recalls = [recall_score(y_test, y_pred_rf), recall_score(y_test, y_pred_xgb), recall_score(y_test, y_pred_lgb)]\n",
    "f1s = [f1_score(y_test, y_pred_rf), f1_score(y_test, y_pred_xgb), f1_score(y_test, y_pred_lgb)]\n",
    "accs = [accuracy_score(y_test, y_pred_rf), accuracy_score(y_test, y_pred_xgb), accuracy_score(y_test, y_pred_lgb)]\n",
    "\n",
    "# Sonuçları yazdır\n",
    "print(\"Recall Scores:\", recalls)\n",
    "print(\"F1 Scores:\", f1s)\n",
    "print(\"Accuracy Scores:\", accs)"
   ]
  },
  {
   "cell_type": "markdown",
   "id": "edc651d8",
   "metadata": {
    "papermill": {
     "duration": 0.008388,
     "end_time": "2025-05-24T23:32:57.969823",
     "exception": false,
     "start_time": "2025-05-24T23:32:57.961435",
     "status": "completed"
    },
    "tags": []
   },
   "source": [
    "📊 Karşılaştırma Grafiği\n",
    "Model performansları aşağıdaki gibi özetlenmiştir:\n",
    "\n",
    "Accuracy: Genel doğruluk oranı\n",
    "\n",
    "Recall: Pozitif sınıfı (hasta birey) yakalama oranı\n",
    "\n",
    "F1-score: Precision ve Recall dengesinin harmonik ortalaması\n",
    "\n",
    "🔍 Grafik 2: Model Performans Karşılaştırması\n",
    "Bu grafikte, üç farklı makine öğrenimi modeli (Random Forest, XGBoost ve LightGBM) üzerinde accuracy (doğruluk), recall (duyarlılık) ve f1-score (f1 puanı) metrikleri karşılaştırılmıştır. Yorumlar:\n",
    "\n",
    "Accuracy (Doğruluk):\n",
    "\n",
    "En yüksek doğruluk değeri Random Forest modeline aittir (yaklaşık 0.83).\n",
    "\n",
    "XGBoost ve LightGBM modelleri yaklaşık %75 doğruluk sağlamaktadır.\n",
    "\n",
    "Recall (Duyarlılık):\n",
    "\n",
    "En yüksek recall değeri LightGBM modelinde gözlemlenmektedir (~0.79).\n",
    "\n",
    "Bu, LightGBM'in pozitif (kalp hastalığı olan bireyleri) sınıfını daha iyi tanımladığını gösterir.\n",
    "\n",
    "F1-score:\n",
    "\n",
    "Tüm modeller için f1-score düşük çıkmıştır (~0.34-0.36 arası).\n",
    "\n",
    "Bu, sınıflar arası dengesizlik veya pozitif sınıfta zayıf performans kaynaklı olabilir.\n",
    "\n",
    "Sonuç:\n",
    "Accuracy açısından Random Forest önde olsa da, recall açısından LightGBM daha iyi sonuç vermektedir. Pozitif sınıfın doğru tahmini (kalp hastalığı) önemli olduğundan, LightGBM modeli recall açısından tercih edilebilir. Ancak genel f1-score'ların düşük olması, modeli iyileştirme veya veri dengesini ele alma gerekliliğini gösterir."
   ]
  },
  {
   "cell_type": "code",
   "execution_count": 19,
   "id": "577fa9f9",
   "metadata": {
    "execution": {
     "iopub.execute_input": "2025-05-24T23:32:57.986523Z",
     "iopub.status.busy": "2025-05-24T23:32:57.986229Z",
     "iopub.status.idle": "2025-05-24T23:32:58.190794Z",
     "shell.execute_reply": "2025-05-24T23:32:58.189928Z"
    },
    "jupyter": {
     "source_hidden": true
    },
    "papermill": {
     "duration": 0.214627,
     "end_time": "2025-05-24T23:32:58.192295",
     "exception": false,
     "start_time": "2025-05-24T23:32:57.977668",
     "status": "completed"
    },
    "tags": []
   },
   "outputs": [
    {
     "data": {
      "image/png": "[encoded data removed]",
      "text/plain": [
       "<Figure size 1000x600 with 1 Axes>"
      ]
     },
     "metadata": {},
     "output_type": "display_data"
    }
   ],
   "source": [
    "# GRAFİK 2: Performans Karşılaştırması\n",
    "plt.figure(figsize=(10,6))\n",
    "x = np.arange(len(models))\n",
    "plt.bar(x-0.2, accs, width=0.2, label='Accuracy')\n",
    "plt.bar(x, recalls, width=0.2, label='Recall')\n",
    "plt.bar(x+0.2, f1s, width=0.2, label='F1-score')\n",
    "plt.xticks(x, models)\n",
    "plt.ylim(0,1)\n",
    "plt.title(\"Model Performans Karşılaştırması\")\n",
    "plt.legend()\n",
    "plt.grid(True, axis='y')\n",
    "plt.tight_layout()\n",
    "plt.show()"
   ]
  },
  {
   "cell_type": "markdown",
   "id": "bf862b26",
   "metadata": {
    "papermill": {
     "duration": 0.008134,
     "end_time": "2025-05-24T23:32:58.208643",
     "exception": false,
     "start_time": "2025-05-24T23:32:58.200509",
     "status": "completed"
    },
    "tags": []
   },
   "source": [
    "⭐ En Önemli Özellikler (Feature Importance)\n",
    "LightGBM modeline göre en etkili 10 değişken analiz edilmiştir. Bu değişkenler, modelin kalp hastalığı riskini tahmin ederken en çok dikkate aldığı faktörleri göstermektedir."
   ]
  },
  {
   "cell_type": "code",
   "execution_count": 20,
   "id": "ad8d4819",
   "metadata": {
    "execution": {
     "iopub.execute_input": "2025-05-24T23:32:58.227332Z",
     "iopub.status.busy": "2025-05-24T23:32:58.227014Z",
     "iopub.status.idle": "2025-05-24T23:32:58.512538Z",
     "shell.execute_reply": "2025-05-24T23:32:58.511327Z"
    },
    "papermill": {
     "duration": 0.296874,
     "end_time": "2025-05-24T23:32:58.514322",
     "exception": false,
     "start_time": "2025-05-24T23:32:58.217448",
     "status": "completed"
    },
    "tags": []
   },
   "outputs": [
    {
     "data": {
      "image/png": "[encoded data removed]",
      "text/plain": [
       "<Figure size 800x500 with 1 Axes>"
      ]
     },
     "metadata": {},
     "output_type": "display_data"
    }
   ],
   "source": [
    "# Özellik Önemlilikleri (LightGBM ile örnek)\n",
    "importances = pd.Series(lgb_best.feature_importances_, index=X.columns)\n",
    "importances.nlargest(10).plot(kind='barh', figsize=(8, 5), title=\"LightGBM - En Önemli 10 Özellik\")\n",
    "plt.tight_layout()\n",
    "plt.show()"
   ]
  }
 ],
 "metadata": {
  "kaggle": {
   "accelerator": "none",
   "dataSources": [
    {
     "datasetId": 1936563,
     "sourceId": 6674905,
     "sourceType": "datasetVersion"
    }
   ],
   "dockerImageVersionId": 31040,
   "isGpuEnabled": false,
   "isInternetEnabled": true,
   "language": "python",
   "sourceType": "notebook"
  },
  "kernelspec": {
   "display_name": "Python 3",
   "language": "python",
   "name": "python3"
  },
  "language_info": {
   "codemirror_mode": {
    "name": "ipython",
    "version": 3
   },
   "file_extension": ".py",
   "mimetype": "text/x-python",
   "name": "python",
   "nbconvert_exporter": "python",
   "pygments_lexer": "ipython3",
   "version": "3.11.11"
  },
  "papermill": {
   "default_parameters": {},
   "duration": 500.338009,
   "end_time": "2025-05-24T23:33:01.146317",
   "environment_variables": {},
   "exception": null,
   "input_path": "__notebook__.ipynb",
   "output_path": "__notebook__.ipynb",
   "parameters": {},
   "start_time": "2025-05-24T23:24:40.808308",
   "version": "2.6.0"
  }
 },
 "nbformat": 4,
 "nbformat_minor": 5
}
